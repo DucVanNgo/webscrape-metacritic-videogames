{
 "cells": [
  {
   "cell_type": "code",
   "execution_count": 6,
   "id": "306dd0d7",
   "metadata": {},
   "outputs": [],
   "source": [
    "from bs4 import BeautifulSoup\n",
    "import requests"
   ]
  },
  {
   "cell_type": "code",
   "execution_count": 14,
   "id": "5070d71a",
   "metadata": {},
   "outputs": [],
   "source": [
    "BASE_URL = \"https://www.metacritic.com/browse/games/score/metascore/all/all?page=0\"\n",
    "\n",
    "# Need a header, so that the Website didn't think, we are a bot\n",
    "headers = {\"User-Agent\": \"Mozilla/5.0 (Macintosh; Intel Mac OS X 10_13_6) AppleWebKit/537.36 (KHTML, like Gecko) Chrome/70.0.3538.77 Safari/537.36\"}"
   ]
  },
  {
   "cell_type": "code",
   "execution_count": 21,
   "id": "077be914",
   "metadata": {},
   "outputs": [],
   "source": [
    "# Use request library to call the webpage with headers as headers\n",
    "page = requests.get(\"https://www.metacritic.com/browse/games/score/metascore/all/all?page=0\", headers = headers)"
   ]
  },
  {
   "cell_type": "code",
   "execution_count": 18,
   "id": "12bed20b",
   "metadata": {},
   "outputs": [],
   "source": [
    "# Create instance of BeautifulSoup with the html content of the page for scraping\n",
    "soup = BeautifulSoup(page.content, \"html.parser\")"
   ]
  },
  {
   "cell_type": "code",
   "execution_count": 32,
   "id": "f13bc688",
   "metadata": {},
   "outputs": [],
   "source": [
    "games = soup.find_all('td', class_='clamp-summary-wrap')"
   ]
  },
  {
   "cell_type": "code",
   "execution_count": 55,
   "id": "b218a67f",
   "metadata": {},
   "outputs": [
    {
     "data": {
      "text/plain": [
       "1"
      ]
     },
     "execution_count": 55,
     "metadata": {},
     "output_type": "execute_result"
    }
   ],
   "source": [
    "#Extracting the rank\n",
    "int(games[0].find('span', class_='title numbered').text.strip().strip('.'))"
   ]
  },
  {
   "cell_type": "code",
   "execution_count": 50,
   "id": "cc6db09e",
   "metadata": {},
   "outputs": [
    {
     "data": {
      "text/plain": [
       "'The Legend of Zelda: Ocarina of Time'"
      ]
     },
     "execution_count": 50,
     "metadata": {},
     "output_type": "execute_result"
    }
   ],
   "source": [
    "#Extracting the title of the game\n",
    "games[0].find('a', class_='title').text"
   ]
  },
  {
   "cell_type": "code",
   "execution_count": 49,
   "id": "dd9e4ed5",
   "metadata": {},
   "outputs": [
    {
     "data": {
      "text/plain": [
       "'Nintendo 64'"
      ]
     },
     "execution_count": 49,
     "metadata": {},
     "output_type": "execute_result"
    }
   ],
   "source": [
    "#Extracting platform/console game has been released on\n",
    "games[0].find('div', class_='platform').find('span', class_='data').text.strip()"
   ]
  },
  {
   "cell_type": "code",
   "execution_count": 61,
   "id": "3cde93e1",
   "metadata": {},
   "outputs": [
    {
     "data": {
      "text/plain": [
       "'November 23, 1998'"
      ]
     },
     "execution_count": 61,
     "metadata": {},
     "output_type": "execute_result"
    }
   ],
   "source": [
    "#Release date\n",
    "games[0].find('div', class_='clamp-details').find_all('span')[2].text"
   ]
  },
  {
   "cell_type": "code",
   "execution_count": null,
   "id": "403f68d7",
   "metadata": {},
   "outputs": [],
   "source": []
  }
 ],
 "metadata": {
  "kernelspec": {
   "display_name": "Python 3 (ipykernel)",
   "language": "python",
   "name": "python3"
  },
  "language_info": {
   "codemirror_mode": {
    "name": "ipython",
    "version": 3
   },
   "file_extension": ".py",
   "mimetype": "text/x-python",
   "name": "python",
   "nbconvert_exporter": "python",
   "pygments_lexer": "ipython3",
   "version": "3.8.12"
  },
  "toc": {
   "base_numbering": 1,
   "nav_menu": {},
   "number_sections": true,
   "sideBar": true,
   "skip_h1_title": false,
   "title_cell": "Table of Contents",
   "title_sidebar": "Contents",
   "toc_cell": false,
   "toc_position": {},
   "toc_section_display": true,
   "toc_window_display": false
  }
 },
 "nbformat": 4,
 "nbformat_minor": 5
}
