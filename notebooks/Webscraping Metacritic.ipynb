{
 "cells": [
  {
   "cell_type": "code",
   "execution_count": 3,
   "id": "6935b9c1",
   "metadata": {},
   "outputs": [],
   "source": [
    "#Webscraping imports\n",
    "from bs4 import BeautifulSoup\n",
    "import requests\n",
    "\n",
    "#Data Analysis/Wrangling imports\n",
    "import pandas as pd\n",
    "import numpy as np\n",
    "\n",
    "#Data Viz imports\n",
    "import matplotlib.pyplot as plt\n",
    "import seaborn as sns\n",
    "\n",
    "import time"
   ]
  },
  {
   "cell_type": "code",
   "execution_count": 4,
   "id": "4faf6150",
   "metadata": {},
   "outputs": [],
   "source": [
    "BASE_URL = \"https://www.metacritic.com/browse/games/score/metascore/all/all\"\n",
    "\n",
    "# Need a header, so that the Website didn't think, we are a bot\n",
    "headers = {\"User-Agent\": \"Mozilla/5.0 (Macintosh; Intel Mac OS X 10_13_6) AppleWebKit/537.36 (KHTML, like Gecko) Chrome/70.0.3538.77 Safari/537.36\"}"
   ]
  },
  {
   "cell_type": "code",
   "execution_count": null,
   "id": "b1b18ca3",
   "metadata": {
    "scrolled": true
   },
   "outputs": [
    {
     "name": "stdout",
     "output_type": "stream",
     "text": [
      "Scraped page 1 out of 195 in 1.52 secs.\n",
      "Scraped page 2 out of 195 in 1.48 secs.\n",
      "Scraped page 3 out of 195 in 1.56 secs.\n",
      "Scraped page 4 out of 195 in 1.63 secs.\n",
      "Scraped page 5 out of 195 in 1.58 secs.\n",
      "Scraped page 6 out of 195 in 3.9 secs.\n",
      "Scraped page 7 out of 195 in 4.04 secs.\n",
      "Scraped page 8 out of 195 in 4.47 secs.\n",
      "Scraped page 9 out of 195 in 4.46 secs.\n",
      "Scraped page 10 out of 195 in 1.6 secs.\n",
      "Scraped page 11 out of 195 in 4.23 secs.\n",
      "Scraped page 12 out of 195 in 3.81 secs.\n",
      "Scraped page 13 out of 195 in 4.1 secs.\n",
      "Scraped page 14 out of 195 in 3.71 secs.\n",
      "Scraped page 15 out of 195 in 4.25 secs.\n",
      "Scraped page 16 out of 195 in 4.17 secs.\n",
      "Scraped page 17 out of 195 in 4.21 secs.\n",
      "Scraped page 18 out of 195 in 4.25 secs.\n",
      "Scraped page 19 out of 195 in 4.33 secs.\n",
      "Scraped page 20 out of 195 in 1.43 secs.\n",
      "Scraped page 21 out of 195 in 1.48 secs.\n",
      "Scraped page 22 out of 195 in 4.13 secs.\n",
      "Scraped page 23 out of 195 in 4.36 secs.\n",
      "Scraped page 24 out of 195 in 4.28 secs.\n",
      "Scraped page 25 out of 195 in 3.97 secs.\n",
      "Scraped page 26 out of 195 in 4.1 secs.\n",
      "Scraped page 27 out of 195 in 3.97 secs.\n",
      "Scraped page 28 out of 195 in 4.16 secs.\n",
      "Scraped page 29 out of 195 in 1.53 secs.\n",
      "Scraped page 30 out of 195 in 4.29 secs.\n",
      "Scraped page 31 out of 195 in 4.71 secs.\n",
      "Scraped page 32 out of 195 in 4.04 secs.\n"
     ]
    }
   ],
   "source": [
    "\n",
    "# Instantiate data list to store dictionaries with information on games in it.\n",
    "data = []\n",
    "\n",
    "#Manually checked, there are 195 pages (numbered 0 to 194 for metacritic) as of 2022/06/25\n",
    "for i in range(195):\n",
    "    \n",
    "    #Timing how long each loop takes.\n",
    "    start_time = time.time()\n",
    "    \n",
    "    # Use request library to call the webpage with headers as headers\n",
    "    page = requests.get(BASE_URL,\n",
    "                        params={'page': i},\n",
    "                        headers = headers)\n",
    "\n",
    "    # Create instance of BeautifulSoup with the html content of the page for scraping\n",
    "    soup = BeautifulSoup(page.content, \"html.parser\")\n",
    "    \n",
    "    # Collect all containers in games based on class 'clamp-summary-wrap'\n",
    "    games = soup.find_all('td', class_='clamp-summary-wrap')\n",
    "\n",
    "    for game in games:\n",
    "\n",
    "        #Instatiate a new dictionary for each game to store relevant information\n",
    "        game_dict = dict()\n",
    "\n",
    "        #Extracting the rank\n",
    "        try:\n",
    "            game_dict['rank'] = int(game.find('span', class_='title numbered').text.strip().strip('.'))\n",
    "        except:\n",
    "            game_dict['rank'] = np.nan\n",
    "\n",
    "        #Extracting the title of the game\n",
    "        try:\n",
    "            game_dict['title'] = game.find('a', class_='title').text\n",
    "        except:\n",
    "            game_dict['title'] = np.nan\n",
    "\n",
    "        #Extracting platform/console game has been released on\n",
    "        try:\n",
    "            game_dict['platform'] = game.find('div', class_='platform').find('span', class_='data').text.strip()\n",
    "        except:\n",
    "            game_dict['platform'] = np.nan\n",
    "\n",
    "        #Release date\n",
    "        try:\n",
    "            game_dict['release_date'] = game.find('div', class_='clamp-details').find_all('span')[2].text        \n",
    "        except:\n",
    "            game_dict['release_date'] = np.nan\n",
    "\n",
    "        #Summary of the game\n",
    "        try:\n",
    "            game_dict['summary'] = game.find('div', class_='summary').text.strip()            \n",
    "        except:\n",
    "            game_dict['summary'] = np.nan\n",
    "\n",
    "        #Metacritic Score\n",
    "        try:\n",
    "            game_dict['metacritic_score'] = int(game.find('div', class_='metascore_w large game positive').text)\n",
    "        except:\n",
    "            game_dict['metacritic_score'] = np.nan\n",
    "\n",
    "        #User Score\n",
    "        try:\n",
    "            game_dict['user_score'] = float(game.find('div', class_='metascore_w user large game positive').text)\n",
    "        except:\n",
    "            game_dict['user_score'] = np.nan\n",
    "\n",
    "        data.append(game_dict)\n",
    "    \n",
    "    print(f'Scraped page {i+1} out of 195 in {round(time.time()-start_time, 2)} secs.')"
   ]
  },
  {
   "cell_type": "code",
   "execution_count": null,
   "id": "e1ed1435",
   "metadata": {},
   "outputs": [],
   "source": [
    "games_df = pd.DataFrame(data)"
   ]
  },
  {
   "cell_type": "code",
   "execution_count": null,
   "id": "2700cebd",
   "metadata": {},
   "outputs": [],
   "source": [
    "#Checking datatypes for columns\n",
    "games_df.info()"
   ]
  },
  {
   "cell_type": "code",
   "execution_count": null,
   "id": "9b2d4e2a",
   "metadata": {},
   "outputs": [],
   "source": [
    "#Release date is not in a datetime format. We need to convert it to the correct datatype\n",
    "\n",
    "games_df['release_date'] = pd.to_datetime(games_df['release_date'])"
   ]
  },
  {
   "cell_type": "code",
   "execution_count": null,
   "id": "fcdb9977",
   "metadata": {},
   "outputs": [],
   "source": [
    "games_df.info()"
   ]
  },
  {
   "cell_type": "code",
   "execution_count": null,
   "id": "81a4fa36",
   "metadata": {},
   "outputs": [],
   "source": [
    "games_df.platform.unique()"
   ]
  },
  {
   "cell_type": "code",
   "execution_count": null,
   "id": "a7e30a70",
   "metadata": {},
   "outputs": [],
   "source": [
    "top1000 = games_df.loc[:1000,:]"
   ]
  },
  {
   "cell_type": "code",
   "execution_count": null,
   "id": "71cdba16",
   "metadata": {},
   "outputs": [],
   "source": [
    "#Checking the platforms for top 1000 games\n",
    "\n",
    "plt.figure(figsize=(10,10))\n",
    "plt.xticks(rotation=90)\n",
    "sns.histplot(top1000.platform)"
   ]
  },
  {
   "cell_type": "code",
   "execution_count": null,
   "id": "f78ee50e",
   "metadata": {},
   "outputs": [],
   "source": [
    "#Checking which year the top 1000 games were released in\n",
    "sns.histplot(top1000.release_date.dt.year)"
   ]
  }
 ],
 "metadata": {
  "kernelspec": {
   "display_name": "Python 3 (ipykernel)",
   "language": "python",
   "name": "python3"
  },
  "language_info": {
   "codemirror_mode": {
    "name": "ipython",
    "version": 3
   },
   "file_extension": ".py",
   "mimetype": "text/x-python",
   "name": "python",
   "nbconvert_exporter": "python",
   "pygments_lexer": "ipython3",
   "version": "3.8.12"
  },
  "toc": {
   "base_numbering": 1,
   "nav_menu": {},
   "number_sections": true,
   "sideBar": true,
   "skip_h1_title": false,
   "title_cell": "Table of Contents",
   "title_sidebar": "Contents",
   "toc_cell": false,
   "toc_position": {},
   "toc_section_display": true,
   "toc_window_display": false
  }
 },
 "nbformat": 4,
 "nbformat_minor": 5
}
