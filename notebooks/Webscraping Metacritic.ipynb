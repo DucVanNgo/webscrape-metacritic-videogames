{
 "cells": [
  {
   "cell_type": "code",
   "execution_count": 16,
   "id": "6935b9c1",
   "metadata": {},
   "outputs": [],
   "source": [
    "#Webscraping imports\n",
    "from bs4 import BeautifulSoup\n",
    "import requests\n",
    "\n",
    "#Data Analysis/Wrangling imports\n",
    "import pandas as pd\n",
    "import numpy as np\n",
    "\n",
    "#Data Viz imports\n",
    "import matplotlib.pyplot as plt\n",
    "import seaborn as sns\n",
    "\n",
    "import time"
   ]
  },
  {
   "cell_type": "code",
   "execution_count": 2,
   "id": "4faf6150",
   "metadata": {},
   "outputs": [],
   "source": [
    "BASE_URL = \"https://www.metacritic.com/browse/games/score/metascore/all/all\"\n",
    "\n",
    "# Need a header, so that the Website didn't think, we are a bot\n",
    "headers = {\"User-Agent\": \"Mozilla/5.0 (Macintosh; Intel Mac OS X 10_13_6) AppleWebKit/537.36 (KHTML, like Gecko) Chrome/70.0.3538.77 Safari/537.36\"}"
   ]
  },
  {
   "cell_type": "code",
   "execution_count": 13,
   "id": "b1b18ca3",
   "metadata": {
    "scrolled": true
   },
   "outputs": [
    {
     "name": "stdout",
     "output_type": "stream",
     "text": [
      "Scraped page 1 out of 195 in 0.38 secs.\n",
      "Scraped page 2 out of 195 in 0.36 secs.\n",
      "Scraped page 3 out of 195 in 0.31 secs.\n",
      "Scraped page 4 out of 195 in 0.26 secs.\n",
      "Scraped page 5 out of 195 in 0.25 secs.\n",
      "Scraped page 6 out of 195 in 0.31 secs.\n",
      "Scraped page 7 out of 195 in 0.24 secs.\n",
      "Scraped page 8 out of 195 in 0.34 secs.\n",
      "Scraped page 9 out of 195 in 0.26 secs.\n",
      "Scraped page 10 out of 195 in 0.24 secs.\n",
      "Scraped page 11 out of 195 in 0.37 secs.\n",
      "Scraped page 12 out of 195 in 0.24 secs.\n",
      "Scraped page 13 out of 195 in 0.33 secs.\n",
      "Scraped page 14 out of 195 in 0.26 secs.\n",
      "Scraped page 15 out of 195 in 0.25 secs.\n",
      "Scraped page 16 out of 195 in 0.31 secs.\n",
      "Scraped page 17 out of 195 in 0.25 secs.\n",
      "Scraped page 18 out of 195 in 0.24 secs.\n",
      "Scraped page 19 out of 195 in 0.3 secs.\n",
      "Scraped page 20 out of 195 in 0.25 secs.\n",
      "Scraped page 21 out of 195 in 0.3 secs.\n",
      "Scraped page 22 out of 195 in 0.32 secs.\n",
      "Scraped page 23 out of 195 in 0.29 secs.\n",
      "Scraped page 24 out of 195 in 0.31 secs.\n",
      "Scraped page 25 out of 195 in 0.26 secs.\n",
      "Scraped page 26 out of 195 in 0.31 secs.\n",
      "Scraped page 27 out of 195 in 0.25 secs.\n",
      "Scraped page 28 out of 195 in 0.26 secs.\n",
      "Scraped page 29 out of 195 in 0.3 secs.\n",
      "Scraped page 30 out of 195 in 0.29 secs.\n",
      "Scraped page 31 out of 195 in 0.3 secs.\n",
      "Scraped page 32 out of 195 in 0.25 secs.\n",
      "Scraped page 33 out of 195 in 0.25 secs.\n",
      "Scraped page 34 out of 195 in 0.3 secs.\n",
      "Scraped page 35 out of 195 in 0.24 secs.\n",
      "Scraped page 36 out of 195 in 0.25 secs.\n",
      "Scraped page 37 out of 195 in 0.32 secs.\n",
      "Scraped page 38 out of 195 in 0.27 secs.\n",
      "Scraped page 39 out of 195 in 0.3 secs.\n",
      "Scraped page 40 out of 195 in 0.27 secs.\n",
      "Scraped page 41 out of 195 in 0.25 secs.\n",
      "Scraped page 42 out of 195 in 0.31 secs.\n",
      "Scraped page 43 out of 195 in 0.26 secs.\n",
      "Scraped page 44 out of 195 in 0.35 secs.\n",
      "Scraped page 45 out of 195 in 0.25 secs.\n",
      "Scraped page 46 out of 195 in 0.24 secs.\n",
      "Scraped page 47 out of 195 in 0.31 secs.\n",
      "Scraped page 48 out of 195 in 0.26 secs.\n",
      "Scraped page 49 out of 195 in 0.38 secs.\n",
      "Scraped page 50 out of 195 in 0.3 secs.\n",
      "Scraped page 51 out of 195 in 0.26 secs.\n",
      "Scraped page 52 out of 195 in 0.3 secs.\n",
      "Scraped page 53 out of 195 in 0.26 secs.\n",
      "Scraped page 54 out of 195 in 0.26 secs.\n",
      "Scraped page 55 out of 195 in 0.31 secs.\n",
      "Scraped page 56 out of 195 in 0.25 secs.\n",
      "Scraped page 57 out of 195 in 0.3 secs.\n",
      "Scraped page 58 out of 195 in 0.24 secs.\n",
      "Scraped page 59 out of 195 in 0.25 secs.\n",
      "Scraped page 60 out of 195 in 0.31 secs.\n",
      "Scraped page 61 out of 195 in 0.25 secs.\n",
      "Scraped page 62 out of 195 in 0.25 secs.\n",
      "Scraped page 63 out of 195 in 0.31 secs.\n",
      "Scraped page 64 out of 195 in 0.26 secs.\n",
      "Scraped page 65 out of 195 in 0.37 secs.\n",
      "Scraped page 66 out of 195 in 0.27 secs.\n",
      "Scraped page 67 out of 195 in 0.24 secs.\n",
      "Scraped page 68 out of 195 in 0.31 secs.\n",
      "Scraped page 69 out of 195 in 0.25 secs.\n",
      "Scraped page 70 out of 195 in 0.31 secs.\n",
      "Scraped page 71 out of 195 in 0.27 secs.\n",
      "Scraped page 72 out of 195 in 0.24 secs.\n",
      "Scraped page 73 out of 195 in 0.31 secs.\n",
      "Scraped page 74 out of 195 in 0.25 secs.\n",
      "Scraped page 75 out of 195 in 0.24 secs.\n",
      "Scraped page 76 out of 195 in 0.31 secs.\n",
      "Scraped page 77 out of 195 in 0.26 secs.\n",
      "Scraped page 78 out of 195 in 0.34 secs.\n",
      "Scraped page 79 out of 195 in 0.26 secs.\n",
      "Scraped page 80 out of 195 in 0.25 secs.\n",
      "Scraped page 81 out of 195 in 0.31 secs.\n",
      "Scraped page 82 out of 195 in 0.25 secs.\n",
      "Scraped page 83 out of 195 in 0.31 secs.\n",
      "Scraped page 84 out of 195 in 0.26 secs.\n",
      "Scraped page 85 out of 195 in 0.36 secs.\n",
      "Scraped page 86 out of 195 in 0.43 secs.\n",
      "Scraped page 87 out of 195 in 0.39 secs.\n",
      "Scraped page 88 out of 195 in 0.42 secs.\n",
      "Scraped page 89 out of 195 in 0.37 secs.\n",
      "Scraped page 90 out of 195 in 0.4 secs.\n",
      "Scraped page 91 out of 195 in 0.43 secs.\n",
      "Scraped page 92 out of 195 in 0.38 secs.\n",
      "Scraped page 93 out of 195 in 0.28 secs.\n",
      "Scraped page 94 out of 195 in 0.32 secs.\n",
      "Scraped page 95 out of 195 in 0.27 secs.\n",
      "Scraped page 96 out of 195 in 0.34 secs.\n",
      "Scraped page 97 out of 195 in 0.25 secs.\n",
      "Scraped page 98 out of 195 in 0.37 secs.\n",
      "Scraped page 99 out of 195 in 0.42 secs.\n",
      "Scraped page 100 out of 195 in 0.44 secs.\n",
      "Scraped page 101 out of 195 in 0.43 secs.\n",
      "Scraped page 102 out of 195 in 0.4 secs.\n",
      "Scraped page 103 out of 195 in 0.37 secs.\n",
      "Scraped page 104 out of 195 in 0.42 secs.\n",
      "Scraped page 105 out of 195 in 0.37 secs.\n",
      "Scraped page 106 out of 195 in 0.37 secs.\n",
      "Scraped page 107 out of 195 in 0.48 secs.\n",
      "Scraped page 108 out of 195 in 0.26 secs.\n",
      "Scraped page 109 out of 195 in 0.31 secs.\n",
      "Scraped page 110 out of 195 in 0.27 secs.\n",
      "Scraped page 111 out of 195 in 0.26 secs.\n",
      "Scraped page 112 out of 195 in 0.31 secs.\n",
      "Scraped page 113 out of 195 in 0.26 secs.\n",
      "Scraped page 114 out of 195 in 0.3 secs.\n",
      "Scraped page 115 out of 195 in 0.27 secs.\n",
      "Scraped page 116 out of 195 in 0.39 secs.\n",
      "Scraped page 117 out of 195 in 0.43 secs.\n",
      "Scraped page 118 out of 195 in 0.39 secs.\n",
      "Scraped page 119 out of 195 in 0.41 secs.\n",
      "Scraped page 120 out of 195 in 0.43 secs.\n",
      "Scraped page 121 out of 195 in 0.37 secs.\n",
      "Scraped page 122 out of 195 in 0.45 secs.\n",
      "Scraped page 123 out of 195 in 4.54 secs.\n",
      "Scraped page 124 out of 195 in 4.6 secs.\n",
      "Scraped page 125 out of 195 in 3.51 secs.\n",
      "Scraped page 126 out of 195 in 4.68 secs.\n",
      "Scraped page 127 out of 195 in 4.2 secs.\n",
      "Scraped page 128 out of 195 in 4.21 secs.\n",
      "Scraped page 129 out of 195 in 5.37 secs.\n",
      "Scraped page 130 out of 195 in 5.24 secs.\n",
      "Scraped page 131 out of 195 in 1.37 secs.\n",
      "Scraped page 132 out of 195 in 7.68 secs.\n",
      "Scraped page 133 out of 195 in 1.84 secs.\n",
      "Scraped page 134 out of 195 in 2.16 secs.\n",
      "Scraped page 135 out of 195 in 6.3 secs.\n",
      "Scraped page 136 out of 195 in 5.46 secs.\n",
      "Scraped page 137 out of 195 in 11.07 secs.\n",
      "Scraped page 138 out of 195 in 6.84 secs.\n",
      "Scraped page 139 out of 195 in 1.43 secs.\n",
      "Scraped page 140 out of 195 in 4.29 secs.\n",
      "Scraped page 141 out of 195 in 1.47 secs.\n",
      "Scraped page 142 out of 195 in 2.45 secs.\n",
      "Scraped page 143 out of 195 in 4.36 secs.\n",
      "Scraped page 144 out of 195 in 4.44 secs.\n",
      "Scraped page 145 out of 195 in 7.45 secs.\n",
      "Scraped page 146 out of 195 in 4.54 secs.\n",
      "Scraped page 147 out of 195 in 1.72 secs.\n",
      "Scraped page 148 out of 195 in 4.48 secs.\n",
      "Scraped page 149 out of 195 in 4.72 secs.\n",
      "Scraped page 150 out of 195 in 3.03 secs.\n",
      "Scraped page 151 out of 195 in 0.17 secs.\n",
      "Scraped page 152 out of 195 in 5.17 secs.\n",
      "Scraped page 153 out of 195 in 4.24 secs.\n",
      "Scraped page 154 out of 195 in 4.97 secs.\n",
      "Scraped page 155 out of 195 in 1.58 secs.\n",
      "Scraped page 156 out of 195 in 1.54 secs.\n",
      "Scraped page 157 out of 195 in 4.36 secs.\n",
      "Scraped page 158 out of 195 in 6.9 secs.\n",
      "Scraped page 159 out of 195 in 4.66 secs.\n",
      "Scraped page 160 out of 195 in 1.88 secs.\n",
      "Scraped page 161 out of 195 in 4.42 secs.\n",
      "Scraped page 162 out of 195 in 4.14 secs.\n",
      "Scraped page 163 out of 195 in 1.58 secs.\n",
      "Scraped page 164 out of 195 in 1.74 secs.\n",
      "Scraped page 165 out of 195 in 6.41 secs.\n",
      "Scraped page 166 out of 195 in 2.3 secs.\n",
      "Scraped page 167 out of 195 in 4.54 secs.\n",
      "Scraped page 168 out of 195 in 3.95 secs.\n",
      "Scraped page 169 out of 195 in 7.08 secs.\n",
      "Scraped page 170 out of 195 in 1.7 secs.\n",
      "Scraped page 171 out of 195 in 8.13 secs.\n",
      "Scraped page 172 out of 195 in 1.49 secs.\n",
      "Scraped page 173 out of 195 in 4.72 secs.\n",
      "Scraped page 174 out of 195 in 4.43 secs.\n",
      "Scraped page 175 out of 195 in 4.88 secs.\n",
      "Scraped page 176 out of 195 in 1.56 secs.\n",
      "Scraped page 177 out of 195 in 4.11 secs.\n",
      "Scraped page 178 out of 195 in 4.96 secs.\n",
      "Scraped page 179 out of 195 in 12.46 secs.\n",
      "Scraped page 180 out of 195 in 6.07 secs.\n",
      "Scraped page 181 out of 195 in 7.01 secs.\n",
      "Scraped page 182 out of 195 in 1.96 secs.\n",
      "Scraped page 183 out of 195 in 1.99 secs.\n",
      "Scraped page 184 out of 195 in 7.52 secs.\n",
      "Scraped page 185 out of 195 in 4.36 secs.\n",
      "Scraped page 186 out of 195 in 2.03 secs.\n",
      "Scraped page 187 out of 195 in 4.57 secs.\n",
      "Scraped page 188 out of 195 in 1.5 secs.\n",
      "Scraped page 189 out of 195 in 0.28 secs.\n",
      "Scraped page 190 out of 195 in 0.26 secs.\n",
      "Scraped page 191 out of 195 in 0.33 secs.\n",
      "Scraped page 192 out of 195 in 0.25 secs.\n",
      "Scraped page 193 out of 195 in 0.31 secs.\n",
      "Scraped page 194 out of 195 in 0.26 secs.\n",
      "Scraped page 195 out of 195 in 0.2 secs.\n"
     ]
    }
   ],
   "source": [
    "\n",
    "# Instantiate data list to store dictionaries with information on games in it.\n",
    "data = []\n",
    "\n",
    "#Manually checked, there are 195 pages (numbered 0 to 194 for metacritic) as of 2022/06/25\n",
    "for i in range(195):\n",
    "    \n",
    "    #Timing how long each loop takes.\n",
    "    start_time = time.time()\n",
    "    \n",
    "    # Use request library to call the webpage with headers as headers\n",
    "    page = requests.get(BASE_URL,\n",
    "                        params={'page': i},\n",
    "                        headers = headers)\n",
    "\n",
    "    # Create instance of BeautifulSoup with the html content of the page for scraping\n",
    "    soup = BeautifulSoup(page.content, \"html.parser\")\n",
    "    \n",
    "    # Collect all containers in games based on class 'clamp-summary-wrap'\n",
    "    games = soup.find_all('td', class_='clamp-summary-wrap')\n",
    "\n",
    "    for game in games:\n",
    "\n",
    "        #Instatiate a new dictionary for each game to store relevant information\n",
    "        game_dict = dict()\n",
    "\n",
    "        #Extracting the rank\n",
    "        try:\n",
    "            game_dict['rank'] = int(game.find('span', class_='title numbered').text.strip().strip('.'))\n",
    "        except:\n",
    "            game_dict['rank'] = np.nan\n",
    "\n",
    "        #Extracting the title of the game\n",
    "        try:\n",
    "            game_dict['title'] = game.find('a', class_='title').text\n",
    "        except:\n",
    "            game_dict['title'] = np.nan\n",
    "\n",
    "        #Extracting platform/console game has been released on\n",
    "        try:\n",
    "            game_dict['platform'] = game.find('div', class_='platform').find('span', class_='data').text.strip()\n",
    "        except:\n",
    "            game_dict['platform'] = np.nan\n",
    "\n",
    "        #Release date\n",
    "        try:\n",
    "            game_dict['release_date'] = game.find('div', class_='clamp-details').find_all('span')[2].text        \n",
    "        except:\n",
    "            game_dict['release_date'] = np.nan\n",
    "\n",
    "        #Summary of the game\n",
    "        try:\n",
    "            game_dict['summary'] = game.find('div', class_='summary').text.strip()            \n",
    "        except:\n",
    "            game_dict['summary'] = np.nan\n",
    "\n",
    "        #Metacritic Score\n",
    "        try:\n",
    "            game_dict['metacritic_score'] = int(game.find('div', class_='metascore_w large game positive').text)\n",
    "        except:\n",
    "            game_dict['metacritic_score'] = np.nan\n",
    "\n",
    "        #User Score\n",
    "        try:\n",
    "            game_dict['user_score'] = float(game.find('div', class_='metascore_w user large game positive').text)\n",
    "        except:\n",
    "            game_dict['user_score'] = np.nan\n",
    "\n",
    "        data.append(game_dict)\n",
    "    \n",
    "    print(f'Scraped page {i+1} out of 195 in {round(time.time()-start_time, 2)} secs.')"
   ]
  },
  {
   "cell_type": "code",
   "execution_count": 15,
   "id": "e1ed1435",
   "metadata": {},
   "outputs": [],
   "source": [
    "games_df = pd.DataFrame(data)"
   ]
  },
  {
   "cell_type": "code",
   "execution_count": 18,
   "id": "2700cebd",
   "metadata": {},
   "outputs": [
    {
     "name": "stdout",
     "output_type": "stream",
     "text": [
      "<class 'pandas.core.frame.DataFrame'>\n",
      "RangeIndex: 19361 entries, 0 to 19360\n",
      "Data columns (total 7 columns):\n",
      " #   Column            Non-Null Count  Dtype  \n",
      "---  ------            --------------  -----  \n",
      " 0   rank              19361 non-null  int64  \n",
      " 1   title             19361 non-null  object \n",
      " 2   platform          19361 non-null  object \n",
      " 3   release_date      19361 non-null  object \n",
      " 4   summary           19361 non-null  object \n",
      " 5   metacritic_score  8289 non-null   float64\n",
      " 6   user_score        7900 non-null   float64\n",
      "dtypes: float64(2), int64(1), object(4)\n",
      "memory usage: 1.0+ MB\n"
     ]
    }
   ],
   "source": [
    "#Checking datatypes for columns\n",
    "games_df.info()"
   ]
  },
  {
   "cell_type": "code",
   "execution_count": 37,
   "id": "9b2d4e2a",
   "metadata": {},
   "outputs": [],
   "source": [
    "#Release date is not in a datetime format. We need to convert it to the correct datatype\n",
    "\n",
    "games_df['release_date'] = pd.to_datetime(games_df['release_date'])"
   ]
  },
  {
   "cell_type": "code",
   "execution_count": 38,
   "id": "fcdb9977",
   "metadata": {},
   "outputs": [
    {
     "name": "stdout",
     "output_type": "stream",
     "text": [
      "<class 'pandas.core.frame.DataFrame'>\n",
      "RangeIndex: 19361 entries, 0 to 19360\n",
      "Data columns (total 7 columns):\n",
      " #   Column            Non-Null Count  Dtype         \n",
      "---  ------            --------------  -----         \n",
      " 0   rank              19361 non-null  int64         \n",
      " 1   title             19361 non-null  object        \n",
      " 2   platform          19361 non-null  object        \n",
      " 3   release_date      19361 non-null  datetime64[ns]\n",
      " 4   summary           19361 non-null  object        \n",
      " 5   metacritic_score  8289 non-null   float64       \n",
      " 6   user_score        7900 non-null   float64       \n",
      "dtypes: datetime64[ns](1), float64(2), int64(1), object(3)\n",
      "memory usage: 1.0+ MB\n"
     ]
    }
   ],
   "source": [
    "games_df.info()"
   ]
  },
  {
   "cell_type": "code",
   "execution_count": 21,
   "id": "81a4fa36",
   "metadata": {},
   "outputs": [
    {
     "data": {
      "text/plain": [
       "array(['Nintendo 64', 'PlayStation', 'PlayStation 3', 'Dreamcast',\n",
       "       'Xbox 360', 'Wii', 'Xbox One', 'PC', 'Switch', 'PlayStation 2',\n",
       "       'PlayStation 4', 'GameCube', 'Xbox', 'Wii U', 'PlayStation 5',\n",
       "       'Xbox Series X', 'Game Boy Advance', '3DS', 'DS',\n",
       "       'PlayStation Vita', 'PSP', 'Stadia'], dtype=object)"
      ]
     },
     "execution_count": 21,
     "metadata": {},
     "output_type": "execute_result"
    }
   ],
   "source": [
    "games_df.platform.unique()"
   ]
  },
  {
   "cell_type": "code",
   "execution_count": 39,
   "id": "a7e30a70",
   "metadata": {},
   "outputs": [],
   "source": [
    "top1000 = games_df.loc[:1000,:]"
   ]
  },
  {
   "cell_type": "code",
   "execution_count": 43,
   "id": "71cdba16",
   "metadata": {},
   "outputs": [
    {
     "data": {
      "text/plain": [
       "<AxesSubplot:xlabel='platform', ylabel='Count'>"
      ]
     },
     "execution_count": 43,
     "metadata": {},
     "output_type": "execute_result"
    },
    {
     "data": {
      "image/png": "[encoded data removed]",
      "text/plain": [
       "<Figure size 720x720 with 1 Axes>"
      ]
     },
     "metadata": {
      "needs_background": "light"
     },
     "output_type": "display_data"
    }
   ],
   "source": [
    "#Checking the platforms for top 1000 games\n",
    "\n",
    "plt.figure(figsize=(10,10))\n",
    "plt.xticks(rotation=90)\n",
    "sns.histplot(top1000.platform)"
   ]
  },
  {
   "cell_type": "code",
   "execution_count": 44,
   "id": "f78ee50e",
   "metadata": {},
   "outputs": [
    {
     "data": {
      "text/plain": [
       "<AxesSubplot:xlabel='release_date', ylabel='Count'>"
      ]
     },
     "execution_count": 44,
     "metadata": {},
     "output_type": "execute_result"
    },
    {
     "data": {
      "image/png": "[encoded data removed]",
      "text/plain": [
       "<Figure size 432x288 with 1 Axes>"
      ]
     },
     "metadata": {
      "needs_background": "light"
     },
     "output_type": "display_data"
    }
   ],
   "source": [
    "#Checking which year the top 1000 games were released in\n",
    "sns.histplot(top1000.release_date.dt.year)"
   ]
  }
 ],
 "metadata": {
  "kernelspec": {
   "display_name": "Python 3 (ipykernel)",
   "language": "python",
   "name": "python3"
  },
  "language_info": {
   "codemirror_mode": {
    "name": "ipython",
    "version": 3
   },
   "file_extension": ".py",
   "mimetype": "text/x-python",
   "name": "python",
   "nbconvert_exporter": "python",
   "pygments_lexer": "ipython3",
   "version": "3.8.12"
  },
  "toc": {
   "base_numbering": 1,
   "nav_menu": {},
   "number_sections": true,
   "sideBar": true,
   "skip_h1_title": false,
   "title_cell": "Table of Contents",
   "title_sidebar": "Contents",
   "toc_cell": false,
   "toc_position": {},
   "toc_section_display": true,
   "toc_window_display": false
  }
 },
 "nbformat": 4,
 "nbformat_minor": 5
}
